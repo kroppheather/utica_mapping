{
 "cells": [
  {
   "cell_type": "code",
   "execution_count": null,
   "id": "hearing-valuation",
   "metadata": {},
   "outputs": [],
   "source": [
    "pip install earthengine-api --upgrade"
   ]
  },
  {
   "cell_type": "code",
   "execution_count": 1,
   "id": "tutorial-paintball",
   "metadata": {},
   "outputs": [],
   "source": [
    "import ee"
   ]
  },
  {
   "cell_type": "code",
   "execution_count": null,
   "id": "diverse-freedom",
   "metadata": {},
   "outputs": [
    {
     "data": {
      "text/html": [
       "<p>To authorize access needed by Earth Engine, open the following\n",
       "        URL in a web browser and follow the instructions:</p>\n",
       "        <p><a href=https://code.earthengine.google.com/client-auth?scopes=https%3A//www.googleapis.com/auth/earthengine%20https%3A//www.googleapis.com/auth/devstorage.full_control&request_id=Fk3YPLB9b-IaLk3Wwpcw27uA6fFG1Iocd-33P7Qzao0&tc=WobK3RxT0y6-8gTrQ15tZMjOulAaA1QttEK_vLvynH0&cc=QNMmXbEtr5zO9sKeyuwf-Zw2423P3ZSvimEXRNmL8U4>https://code.earthengine.google.com/client-auth?scopes=https%3A//www.googleapis.com/auth/earthengine%20https%3A//www.googleapis.com/auth/devstorage.full_control&request_id=Fk3YPLB9b-IaLk3Wwpcw27uA6fFG1Iocd-33P7Qzao0&tc=WobK3RxT0y6-8gTrQ15tZMjOulAaA1QttEK_vLvynH0&cc=QNMmXbEtr5zO9sKeyuwf-Zw2423P3ZSvimEXRNmL8U4</a></p>\n",
       "        <p>The authorization workflow will generate a code, which you\n",
       "        should paste in the box below</p>\n",
       "        "
      ],
      "text/plain": [
       "<IPython.core.display.HTML object>"
      ]
     },
     "metadata": {},
     "output_type": "display_data"
    }
   ],
   "source": [
    "# Trigger the authentication flow.\n",
    "ee.Authenticate()"
   ]
  },
  {
   "cell_type": "code",
   "execution_count": null,
   "id": "arctic-seventh",
   "metadata": {},
   "outputs": [],
   "source": []
  }
 ],
 "metadata": {
  "kernelspec": {
   "display_name": "Python 3",
   "language": "python",
   "name": "python3"
  },
  "language_info": {
   "codemirror_mode": {
    "name": "ipython",
    "version": 3
   },
   "file_extension": ".py",
   "mimetype": "text/x-python",
   "name": "python",
   "nbconvert_exporter": "python",
   "pygments_lexer": "ipython3",
   "version": "3.7.6"
  }
 },
 "nbformat": 4,
 "nbformat_minor": 5
}
