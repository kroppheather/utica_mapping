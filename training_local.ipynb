{
 "cells": [
  {
   "cell_type": "code",
   "execution_count": 1,
   "id": "d684228e",
   "metadata": {},
   "outputs": [],
   "source": [
    "import keras\n",
    "import tensorflow as tf"
   ]
  },
  {
   "cell_type": "code",
   "execution_count": 2,
   "id": "intelligent-technology",
   "metadata": {
    "scrolled": true
   },
   "outputs": [
    {
     "name": "stdout",
     "output_type": "stream",
     "text": [
      "-----------------------------------------\n",
      "keras-unet init: TF version is >= 2.0.0 - using `tf.keras` instead of `Keras`\n",
      "-----------------------------------------\n"
     ]
    }
   ],
   "source": [
    "import os\n",
    "from osgeo import gdal\n",
    "import matplotlib.pyplot as plt\n",
    "import numpy as np\n",
    "from pathlib import Path\n",
    "from glob import glob\n",
    "from keras_unet.models import custom_unet, satellite_unet\n",
    "from keras_unet.metrics import iou, iou_thresholded\n",
    "from keras_unet.losses import jaccard_distance"
   ]
  },
  {
   "cell_type": "code",
   "execution_count": 5,
   "id": "32ad09b5",
   "metadata": {},
   "outputs": [],
   "source": [
    "base_dir = Path(r'e:\\Google Drive\\research\\projects\\utica')\n",
    "mask_dir = base_dir.joinpath('mask')\n",
    "train_image_dir = mask_dir.joinpath('u_train_reproject')\n",
    "trees_mask_dir = mask_dir.joinpath('trees')\n",
    "building_mask_dir = mask_dir.joinpath('building')\n",
    "pavement_mask_dir = mask_dir.joinpath('pavement')"
   ]
  },
  {
   "cell_type": "code",
   "execution_count": 6,
   "id": "f969b1bd",
   "metadata": {},
   "outputs": [],
   "source": [
    "I, N, M = 40, 256, 256"
   ]
  },
  {
   "cell_type": "code",
   "execution_count": 7,
   "id": "ca4cbfad",
   "metadata": {},
   "outputs": [
    {
     "data": {
      "text/plain": [
       "['building', 'desktop.ini', 'pavement', 'trees', 'u_train_reproject']"
      ]
     },
     "execution_count": 7,
     "metadata": {},
     "output_type": "execute_result"
    }
   ],
   "source": [
    "os.listdir(mask_dir)"
   ]
  },
  {
   "cell_type": "code",
   "execution_count": 8,
   "id": "957a7a0f",
   "metadata": {},
   "outputs": [],
   "source": [
    "def make_path(img_dir, prefix, number):\n",
    "    return os.path.join(img_dir, f\"{prefix}_{number}.tif\")"
   ]
  },
  {
   "cell_type": "code",
   "execution_count": 9,
   "id": "6128c75d",
   "metadata": {},
   "outputs": [],
   "source": [
    "def img_number(fpath: str) -> int:\n",
    "    return int(os.path.splitext(os.path.split(fpath)[1])[0].split('_')[-1])"
   ]
  },
  {
   "cell_type": "code",
   "execution_count": 10,
   "id": "7e6d57ad",
   "metadata": {},
   "outputs": [],
   "source": [
    "def load_image(path: str) -> np.ndarray:\n",
    "    ds = gdal.Open(path, gdal.GA_ReadOnly)\n",
    "    return ds.GetRasterBand(1).ReadAsArray()[6:-7,6:-6]"
   ]
  },
  {
   "cell_type": "code",
   "execution_count": 11,
   "id": "9eb00212",
   "metadata": {},
   "outputs": [],
   "source": [
    "def sorted_paths(img_dir: Path):\n",
    "    return sorted(glob(img_dir.joinpath('*.tif').as_posix()), key=img_number)"
   ]
  },
  {
   "cell_type": "code",
   "execution_count": 12,
   "id": "94ee632c",
   "metadata": {},
   "outputs": [],
   "source": [
    "def load_stack_safely(shape, dtype, img_dir, prefix):\n",
    "    \"\"\"\n",
    "    Load a stack of images from disk into an ndarray.\n",
    "\n",
    "    Performs the load potentially several times, to ensure that values\n",
    "    stabilize. Google seems to be...tricky...\n",
    "    \"\"\"\n",
    "    last_sum = 0\n",
    "    while True:\n",
    "        stack = np.zeros(shape=shape, dtype=dtype)\n",
    "        for i in range(shape[0]):\n",
    "            image_path = make_path(img_dir, prefix, i + 1)\n",
    "            if not os.path.isfile(image_path):\n",
    "                print(\"skipping\", image_path)\n",
    "                continue\n",
    "            stack[i, :, :] = load_image(image_path)\n",
    "        if stack.sum() == last_sum:\n",
    "            break\n",
    "        last_sum = stack.sum()\n",
    "    return stack"
   ]
  },
  {
   "cell_type": "code",
   "execution_count": 13,
   "id": "cceed449",
   "metadata": {},
   "outputs": [
    {
     "name": "stdout",
     "output_type": "stream",
     "text": [
      "skipping e:\\Google Drive\\research\\projects\\utica\\mask\\building\\building_mask_8.tif\n",
      "skipping e:\\Google Drive\\research\\projects\\utica\\mask\\building\\building_mask_19.tif\n",
      "skipping e:\\Google Drive\\research\\projects\\utica\\mask\\building\\building_mask_27.tif\n",
      "skipping e:\\Google Drive\\research\\projects\\utica\\mask\\building\\building_mask_31.tif\n",
      "skipping e:\\Google Drive\\research\\projects\\utica\\mask\\building\\building_mask_34.tif\n",
      "skipping e:\\Google Drive\\research\\projects\\utica\\mask\\building\\building_mask_8.tif\n",
      "skipping e:\\Google Drive\\research\\projects\\utica\\mask\\building\\building_mask_19.tif\n",
      "skipping e:\\Google Drive\\research\\projects\\utica\\mask\\building\\building_mask_27.tif\n",
      "skipping e:\\Google Drive\\research\\projects\\utica\\mask\\building\\building_mask_31.tif\n",
      "skipping e:\\Google Drive\\research\\projects\\utica\\mask\\building\\building_mask_34.tif\n",
      "skipping e:\\Google Drive\\research\\projects\\utica\\mask\\pavement\\pavement_mask_19.tif\n",
      "skipping e:\\Google Drive\\research\\projects\\utica\\mask\\pavement\\pavement_mask_22.tif\n",
      "skipping e:\\Google Drive\\research\\projects\\utica\\mask\\pavement\\pavement_mask_19.tif\n",
      "skipping e:\\Google Drive\\research\\projects\\utica\\mask\\pavement\\pavement_mask_22.tif\n"
     ]
    }
   ],
   "source": [
    "train_images = load_stack_safely((I, N, M), np.float32, train_image_dir, \"wgs_train\")\n",
    "tree_masks = load_stack_safely((I, N, M), np.int8, trees_mask_dir, \"tree_mask\")\n",
    "building_masks = load_stack_safely((I, N, M), np.int8, building_mask_dir, \"building_mask\")\n",
    "pavement_masks = load_stack_safely((I, N, M), np.int8, pavement_mask_dir, \"pavement_mask\")"
   ]
  },
  {
   "cell_type": "code",
   "execution_count": 14,
   "id": "d6b0be08",
   "metadata": {},
   "outputs": [
    {
     "data": {
      "image/png": "[encoded data removed]",
      "text/plain": [
       "<Figure size 432x288 with 1 Axes>"
      ]
     },
     "metadata": {
      "needs_background": "light"
     },
     "output_type": "display_data"
    }
   ],
   "source": [
    "fig, ax = plt.subplots()\n",
    "ax.bar(range(3), [tree_masks.sum(), building_masks.sum(), pavement_masks.sum()])\n",
    "ax.set_xticks((0, 1, 2))\n",
    "ax.set_xticklabels(('tree', 'building', 'pavement'))\n",
    "plt.ylabel('number of pixels')\n",
    "plt.show()"
   ]
  },
  {
   "cell_type": "code",
   "execution_count": 15,
   "id": "f9a20882",
   "metadata": {},
   "outputs": [
    {
     "data": {
      "image/png": "[encoded data removed]",
      "text/plain": [
       "<Figure size 432x288 with 1 Axes>"
      ]
     },
     "metadata": {
      "needs_background": "light"
     },
     "output_type": "display_data"
    }
   ],
   "source": [
    "plt.hist(train_images.flatten())\n",
    "plt.show()"
   ]
  },
  {
   "cell_type": "code",
   "execution_count": 16,
   "id": "3f34e074",
   "metadata": {},
   "outputs": [],
   "source": [
    "model = satellite_unet(\n",
    "    (N, M, 1),\n",
    "    3,\n",
    "    # dropout_type=\"spatial\"\n",
    ")"
   ]
  },
  {
   "cell_type": "code",
   "execution_count": 17,
   "id": "50369626",
   "metadata": {},
   "outputs": [],
   "source": [
    "model.compile(\n",
    "    optimizer=tf.keras.optimizers.Adam(), \n",
    "    #optimizer=SGD(lr=0.01, momentum=0.99),\n",
    "    loss='binary_crossentropy',\n",
    "    #loss=jaccard_distance,\n",
    "    metrics=[iou, iou_thresholded],\n",
    "    \n",
    ")"
   ]
  },
  {
   "cell_type": "code",
   "execution_count": 18,
   "id": "d8af6105",
   "metadata": {},
   "outputs": [],
   "source": [
    "Y = np.zeros(shape=(I, N, M, 3), dtype=np.int8)\n",
    "Y[:, :, :, 0] = tree_masks\n",
    "Y[:, :, :, 1] = building_masks\n",
    "Y[:, :, :, 2] = pavement_masks"
   ]
  },
  {
   "cell_type": "code",
   "execution_count": 19,
   "id": "9c2fe212",
   "metadata": {},
   "outputs": [
    {
     "data": {
      "text/plain": [
       "((40, 256, 256, 3), (40, 256, 256))"
      ]
     },
     "execution_count": 19,
     "metadata": {},
     "output_type": "execute_result"
    }
   ],
   "source": [
    "Y.shape, tree_masks.shape"
   ]
  },
  {
   "cell_type": "code",
   "execution_count": 20,
   "id": "da3ef52e",
   "metadata": {},
   "outputs": [
    {
     "name": "stdout",
     "output_type": "stream",
     "text": [
      "2/2 [==============================] - 20s 4s/step - loss: 0.7214 - iou: 0.1024 - iou_thresholded: 0.1185\n"
     ]
    }
   ],
   "source": [
    "history = model.fit(\n",
    "    train_images.reshape(I, N, M, 1),\n",
    "    Y,\n",
    ")"
   ]
  },
  {
   "cell_type": "code",
   "execution_count": null,
   "id": "f0defb15",
   "metadata": {},
   "outputs": [],
   "source": [
    "Y_pred = model.predict(train_images.reshape(I, N, M, 1))"
   ]
  }
 ],
 "metadata": {
  "kernelspec": {
   "display_name": "Python 3 (ipykernel)",
   "language": "python",
   "name": "python3"
  },
  "language_info": {
   "codemirror_mode": {
    "name": "ipython",
    "version": 3
   },
   "file_extension": ".py",
   "mimetype": "text/x-python",
   "name": "python",
   "nbconvert_exporter": "python",
   "pygments_lexer": "ipython3",
   "version": "3.8.0"
  }
 },
 "nbformat": 4,
 "nbformat_minor": 5
}
