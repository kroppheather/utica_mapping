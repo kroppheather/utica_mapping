{
 "cells": [
  {
   "cell_type": "code",
   "execution_count": 84,
   "id": "9a47bb2e",
   "metadata": {},
   "outputs": [],
   "source": [
    "import keras\n",
    "import tensorflow as tf\n",
    "from keras.models import Sequential\n",
    "from keras.layers import Dense, Conv2D, Flatten\n"
   ]
  },
  {
   "cell_type": "code",
   "execution_count": 2,
   "id": "intelligent-technology",
   "metadata": {
    "scrolled": true
   },
   "outputs": [],
   "source": [
    "import os\n",
    "from osgeo import gdal\n",
    "import matplotlib.pyplot as plt\n",
    "import numpy as np\n",
    "from pathlib import Path\n",
    "from glob import glob\n"
   ]
  },
  {
   "cell_type": "code",
   "execution_count": 3,
   "id": "a5646b4b",
   "metadata": {},
   "outputs": [],
   "source": [
    "base_dir = Path(r'e:\\Google Drive\\research\\projects\\utica')\n",
    "mask_dir = base_dir.joinpath('mask')\n",
    "train_image_dir = mask_dir.joinpath('u_train_reproject')\n",
    "trees_mask_dir = mask_dir.joinpath('trees')\n",
    "building_mask_dir = mask_dir.joinpath('building')\n",
    "pavement_mask_dir = mask_dir.joinpath('pavement')"
   ]
  },
  {
   "cell_type": "code",
   "execution_count": 4,
   "id": "88e95a36",
   "metadata": {},
   "outputs": [],
   "source": [
    "I, N, M = 40, 256, 256"
   ]
  },
  {
   "cell_type": "code",
   "execution_count": 5,
   "id": "d7d6fae0",
   "metadata": {},
   "outputs": [
    {
     "data": {
      "text/plain": [
       "['building', 'desktop.ini', 'pavement', 'trees', 'u_train_reproject']"
      ]
     },
     "execution_count": 5,
     "metadata": {},
     "output_type": "execute_result"
    }
   ],
   "source": [
    "os.listdir(mask_dir)"
   ]
  },
  {
   "cell_type": "code",
   "execution_count": 6,
   "id": "8be6db35",
   "metadata": {},
   "outputs": [],
   "source": [
    "def make_path(img_dir, prefix, number):\n",
    "    return os.path.join(img_dir, f\"{prefix}_{number}.tif\")"
   ]
  },
  {
   "cell_type": "code",
   "execution_count": 7,
   "id": "725fb578",
   "metadata": {},
   "outputs": [],
   "source": [
    "def img_number(fpath: str) -> int:\n",
    "    return int(os.path.splitext(os.path.split(fpath)[1])[0].split('_')[-1])"
   ]
  },
  {
   "cell_type": "code",
   "execution_count": 8,
   "id": "7c77ad47",
   "metadata": {},
   "outputs": [],
   "source": [
    "def load_image(path: str) -> np.ndarray:\n",
    "    ds = gdal.Open(path, gdal.GA_ReadOnly)\n",
    "    return ds.GetRasterBand(1).ReadAsArray()[6:-7,6:-6]"
   ]
  },
  {
   "cell_type": "code",
   "execution_count": 9,
   "id": "29d88392",
   "metadata": {},
   "outputs": [],
   "source": [
    "def sorted_paths(img_dir: Path):\n",
    "    return sorted(glob(img_dir.joinpath('*.tif').as_posix()), key=img_number)"
   ]
  },
  {
   "cell_type": "code",
   "execution_count": 10,
   "id": "edb69004",
   "metadata": {},
   "outputs": [],
   "source": [
    "def load_stack_safely(shape, dtype, img_dir, prefix):\n",
    "    \"\"\"\n",
    "    Load a stack of images from disk into an ndarray.\n",
    "\n",
    "    Performs the load potentially several times, to ensure that values\n",
    "    stabilize. Google seems to be...tricky...\n",
    "    \"\"\"\n",
    "    last_sum = 0\n",
    "    while True:\n",
    "        stack = np.zeros(shape=shape, dtype=dtype)\n",
    "        for i in range(shape[0]):\n",
    "            image_path = make_path(img_dir, prefix, i + 1)\n",
    "            if not os.path.isfile(image_path):\n",
    "                print(\"skipping\", image_path)\n",
    "                continue\n",
    "            stack[i, :, :] = load_image(image_path)\n",
    "        if stack.sum() == last_sum:\n",
    "            break\n",
    "        last_sum = stack.sum()\n",
    "    return stack"
   ]
  },
  {
   "cell_type": "code",
   "execution_count": 11,
   "id": "1ad94d72",
   "metadata": {},
   "outputs": [
    {
     "name": "stdout",
     "output_type": "stream",
     "text": [
      "skipping e:\\Google Drive\\research\\projects\\utica\\mask\\building\\building_mask_8.tif\n",
      "skipping e:\\Google Drive\\research\\projects\\utica\\mask\\building\\building_mask_19.tif\n",
      "skipping e:\\Google Drive\\research\\projects\\utica\\mask\\building\\building_mask_27.tif\n",
      "skipping e:\\Google Drive\\research\\projects\\utica\\mask\\building\\building_mask_31.tif\n",
      "skipping e:\\Google Drive\\research\\projects\\utica\\mask\\building\\building_mask_34.tif\n",
      "skipping e:\\Google Drive\\research\\projects\\utica\\mask\\building\\building_mask_8.tif\n",
      "skipping e:\\Google Drive\\research\\projects\\utica\\mask\\building\\building_mask_19.tif\n",
      "skipping e:\\Google Drive\\research\\projects\\utica\\mask\\building\\building_mask_27.tif\n",
      "skipping e:\\Google Drive\\research\\projects\\utica\\mask\\building\\building_mask_31.tif\n",
      "skipping e:\\Google Drive\\research\\projects\\utica\\mask\\building\\building_mask_34.tif\n",
      "skipping e:\\Google Drive\\research\\projects\\utica\\mask\\pavement\\pavement_mask_19.tif\n",
      "skipping e:\\Google Drive\\research\\projects\\utica\\mask\\pavement\\pavement_mask_22.tif\n",
      "skipping e:\\Google Drive\\research\\projects\\utica\\mask\\pavement\\pavement_mask_19.tif\n",
      "skipping e:\\Google Drive\\research\\projects\\utica\\mask\\pavement\\pavement_mask_22.tif\n"
     ]
    }
   ],
   "source": [
    "train_images = load_stack_safely((I, N, M), np.float32, train_image_dir, \"wgs_train\")\n",
    "tree_masks = load_stack_safely((I, N, M), np.int8, trees_mask_dir, \"tree_mask\")\n",
    "building_masks = load_stack_safely((I, N, M), np.int8, building_mask_dir, \"building_mask\")\n",
    "pavement_masks = load_stack_safely((I, N, M), np.int8, pavement_mask_dir, \"pavement_mask\")"
   ]
  },
  {
   "cell_type": "code",
   "execution_count": 12,
   "id": "a42a1339",
   "metadata": {},
   "outputs": [
    {
     "data": {
      "image/png": "[encoded data removed]",
      "text/plain": [
       "<Figure size 432x288 with 1 Axes>"
      ]
     },
     "metadata": {
      "needs_background": "light"
     },
     "output_type": "display_data"
    }
   ],
   "source": [
    "fig, ax = plt.subplots()\n",
    "ax.bar(range(3), [tree_masks.sum(), building_masks.sum(), pavement_masks.sum()])\n",
    "ax.set_xticks((0, 1, 2))\n",
    "ax.set_xticklabels(('tree', 'building', 'pavement'))\n",
    "plt.ylabel('number of pixels')\n",
    "plt.show()"
   ]
  },
  {
   "cell_type": "code",
   "execution_count": 13,
   "id": "e816cc30",
   "metadata": {},
   "outputs": [
    {
     "data": {
      "image/png": "[encoded data removed]",
      "text/plain": [
       "<Figure size 432x288 with 1 Axes>"
      ]
     },
     "metadata": {
      "needs_background": "light"
     },
     "output_type": "display_data"
    }
   ],
   "source": [
    "plt.hist(train_images.flatten())\n",
    "plt.show()"
   ]
  },
  {
   "cell_type": "code",
   "execution_count": 14,
   "id": "e921174d",
   "metadata": {},
   "outputs": [],
   "source": [
    "Y = np.zeros(shape=(I, N, M, 3), dtype=np.int8)\n",
    "Y[:, :, :, 0] = tree_masks\n",
    "Y[:, :, :, 1] = building_masks\n",
    "Y[:, :, :, 2] = pavement_masks"
   ]
  },
  {
   "cell_type": "code",
   "execution_count": 114,
   "id": "8f396750",
   "metadata": {},
   "outputs": [],
   "source": [
    "train_sub = train_images[0:18]"
   ]
  },
  {
   "cell_type": "code",
   "execution_count": 115,
   "id": "2aa5b9e0",
   "metadata": {},
   "outputs": [
    {
     "data": {
      "image/png": "[encoded data removed]",
      "text/plain": [
       "<Figure size 432x288 with 1 Axes>"
      ]
     },
     "metadata": {
      "needs_background": "light"
     },
     "output_type": "display_data"
    }
   ],
   "source": [
    "plt.hist(train_sub.flatten())\n",
    "plt.show()"
   ]
  },
  {
   "cell_type": "code",
   "execution_count": 116,
   "id": "3c94e492",
   "metadata": {},
   "outputs": [],
   "source": [
    "test_sub = train_images[19:37] "
   ]
  },
  {
   "cell_type": "code",
   "execution_count": 117,
   "id": "0f1ae987",
   "metadata": {},
   "outputs": [
    {
     "data": {
      "image/png": "[encoded data removed]",
      "text/plain": [
       "<Figure size 432x288 with 1 Axes>"
      ]
     },
     "metadata": {
      "needs_background": "light"
     },
     "output_type": "display_data"
    }
   ],
   "source": [
    "plt.hist(test_sub.flatten())\n",
    "plt.show()"
   ]
  },
  {
   "cell_type": "code",
   "execution_count": 121,
   "id": "12495cb0",
   "metadata": {},
   "outputs": [
    {
     "data": {
      "text/plain": [
       "(256, 256)"
      ]
     },
     "execution_count": 121,
     "metadata": {},
     "output_type": "execute_result"
    }
   ],
   "source": [
    "train_sub[17].shape"
   ]
  },
  {
   "cell_type": "code",
   "execution_count": 124,
   "id": "43b47720",
   "metadata": {},
   "outputs": [],
   "source": [
    "X_train = train_sub.reshape(18,256,256,1)"
   ]
  },
  {
   "cell_type": "code",
   "execution_count": 125,
   "id": "81685bcd",
   "metadata": {},
   "outputs": [
    {
     "data": {
      "text/plain": [
       "(18, 256, 256, 1)"
      ]
     },
     "execution_count": 125,
     "metadata": {},
     "output_type": "execute_result"
    }
   ],
   "source": [
    "X_train.shape"
   ]
  },
  {
   "cell_type": "code",
   "execution_count": 126,
   "id": "9fb68c21",
   "metadata": {},
   "outputs": [],
   "source": [
    "X_test = test_sub.reshape(18,256,256,1)"
   ]
  },
  {
   "cell_type": "code",
   "execution_count": 128,
   "id": "974aa83b",
   "metadata": {},
   "outputs": [],
   "source": [
    "Y_train = np.zeros(shape=(18, N, M, 3), dtype=np.int8)\n",
    "Y_train[0:18, :, :, 0] = tree_masks[0:18]\n",
    "Y_train[0:18, :, :, 1] = building_masks[0:18]\n",
    "Y_train[0:18, :, :, 2] = pavement_masks[0:18]"
   ]
  },
  {
   "cell_type": "code",
   "execution_count": 130,
   "id": "133eaa95",
   "metadata": {},
   "outputs": [],
   "source": [
    "Y_test = np.zeros(shape=(18, N, M, 3), dtype=np.int8)\n",
    "Y_test[0:18, :, :, 0] = tree_masks[19:37]\n",
    "Y_test[0:18, :, :, 1] = building_masks[19:37]\n",
    "Y_test[0:18, :, :, 2] = pavement_masks[19:37]"
   ]
  },
  {
   "cell_type": "code",
   "execution_count": 131,
   "id": "83ae577f",
   "metadata": {
    "scrolled": true
   },
   "outputs": [
    {
     "data": {
      "text/plain": [
       "(256, 256, 1)"
      ]
     },
     "execution_count": 131,
     "metadata": {},
     "output_type": "execute_result"
    }
   ],
   "source": [
    "X_train.shape[1:]"
   ]
  },
  {
   "cell_type": "code",
   "execution_count": 132,
   "id": "db50d205",
   "metadata": {
    "scrolled": true
   },
   "outputs": [
    {
     "data": {
      "text/plain": [
       "(18, 256, 256, 1)"
      ]
     },
     "execution_count": 132,
     "metadata": {},
     "output_type": "execute_result"
    }
   ],
   "source": [
    "X_test.shape"
   ]
  },
  {
   "cell_type": "code",
   "execution_count": 140,
   "id": "c3bf40a9",
   "metadata": {},
   "outputs": [],
   "source": [
    "\n",
    "from keras.models import Sequential\n",
    "from keras.layers import Dense, Dropout, Flatten\n",
    "from keras.layers import Conv2D, MaxPooling2D\n",
    "\n",
    "cnn1 = Sequential()\n",
    "cnn1.add(Conv2D(32, kernel_size=(3, 3), activation='relu', input_shape=X_train.shape[1:]))\n",
    "cnn1.add(MaxPooling2D(pool_size=(2, 2)))\n",
    "cnn1.add(Dropout(0.2))\n",
    "\n",
    "cnn1.add(Flatten())\n",
    "\n",
    "cnn1.add(Dense(128, activation='relu'))\n",
    "cnn1.add(Dense(10, activation='softmax'))\n",
    "\n",
    "cnn1.compile(loss=tf.keras.losses.CategoricalCrossentropy(),\n",
    "              optimizer=tf.keras.optimizers.Adam(),\n",
    "              metrics=['accuracy'])"
   ]
  },
  {
   "cell_type": "code",
   "execution_count": 141,
   "id": "3f71cfd4",
   "metadata": {},
   "outputs": [
    {
     "name": "stdout",
     "output_type": "stream",
     "text": [
      "Model: \"sequential_10\"\n",
      "_________________________________________________________________\n",
      " Layer (type)                Output Shape              Param #   \n",
      "=================================================================\n",
      " conv2d_22 (Conv2D)          (None, 254, 254, 32)      320       \n",
      "                                                                 \n",
      " max_pooling2d_8 (MaxPooling  (None, 127, 127, 32)     0         \n",
      " 2D)                                                             \n",
      "                                                                 \n",
      " dropout_8 (Dropout)         (None, 127, 127, 32)      0         \n",
      "                                                                 \n",
      " flatten_9 (Flatten)         (None, 516128)            0         \n",
      "                                                                 \n",
      " dense_17 (Dense)            (None, 128)               66064512  \n",
      "                                                                 \n",
      " dense_18 (Dense)            (None, 10)                1290      \n",
      "                                                                 \n",
      "=================================================================\n",
      "Total params: 66,066,122\n",
      "Trainable params: 66,066,122\n",
      "Non-trainable params: 0\n",
      "_________________________________________________________________\n"
     ]
    }
   ],
   "source": [
    "cnn1.summary()"
   ]
  },
  {
   "cell_type": "code",
   "execution_count": 142,
   "id": "4ecfd399",
   "metadata": {},
   "outputs": [
    {
     "name": "stdout",
     "output_type": "stream",
     "text": [
      "Epoch 1/10\n"
     ]
    },
    {
     "ename": "ValueError",
     "evalue": "in user code:\n\n    File \"c:\\users\\hkropp\\appdata\\local\\programs\\python\\python38\\lib\\site-packages\\keras\\engine\\training.py\", line 878, in train_function  *\n        return step_function(self, iterator)\n    File \"c:\\users\\hkropp\\appdata\\local\\programs\\python\\python38\\lib\\site-packages\\keras\\engine\\training.py\", line 867, in step_function  **\n        outputs = model.distribute_strategy.run(run_step, args=(data,))\n    File \"c:\\users\\hkropp\\appdata\\local\\programs\\python\\python38\\lib\\site-packages\\keras\\engine\\training.py\", line 860, in run_step  **\n        outputs = model.train_step(data)\n    File \"c:\\users\\hkropp\\appdata\\local\\programs\\python\\python38\\lib\\site-packages\\keras\\engine\\training.py\", line 809, in train_step\n        loss = self.compiled_loss(\n    File \"c:\\users\\hkropp\\appdata\\local\\programs\\python\\python38\\lib\\site-packages\\keras\\engine\\compile_utils.py\", line 201, in __call__\n        loss_value = loss_obj(y_t, y_p, sample_weight=sw)\n    File \"c:\\users\\hkropp\\appdata\\local\\programs\\python\\python38\\lib\\site-packages\\keras\\losses.py\", line 141, in __call__\n        losses = call_fn(y_true, y_pred)\n    File \"c:\\users\\hkropp\\appdata\\local\\programs\\python\\python38\\lib\\site-packages\\keras\\losses.py\", line 245, in call  **\n        return ag_fn(y_true, y_pred, **self._fn_kwargs)\n    File \"c:\\users\\hkropp\\appdata\\local\\programs\\python\\python38\\lib\\site-packages\\keras\\losses.py\", line 1664, in categorical_crossentropy\n        return backend.categorical_crossentropy(\n    File \"c:\\users\\hkropp\\appdata\\local\\programs\\python\\python38\\lib\\site-packages\\keras\\backend.py\", line 4994, in categorical_crossentropy\n        target.shape.assert_is_compatible_with(output.shape)\n\n    ValueError: Shapes (None, 256, 256, 3) and (None, 10) are incompatible\n",
     "output_type": "error",
     "traceback": [
      "\u001b[1;31m---------------------------------------------------------------------------\u001b[0m",
      "\u001b[1;31mValueError\u001b[0m                                Traceback (most recent call last)",
      "\u001b[1;32m~\\AppData\\Local\\Temp/ipykernel_20468/1684607656.py\u001b[0m in \u001b[0;36m<module>\u001b[1;34m\u001b[0m\n\u001b[0;32m      1\u001b[0m \u001b[1;31m#train the model\u001b[0m\u001b[1;33m\u001b[0m\u001b[1;33m\u001b[0m\u001b[1;33m\u001b[0m\u001b[0m\n\u001b[1;32m----> 2\u001b[1;33m history1 = cnn1.fit(X_train, Y_train,\n\u001b[0m\u001b[0;32m      3\u001b[0m           \u001b[0mbatch_size\u001b[0m\u001b[1;33m=\u001b[0m\u001b[1;36m256\u001b[0m\u001b[1;33m,\u001b[0m\u001b[1;33m\u001b[0m\u001b[1;33m\u001b[0m\u001b[0m\n\u001b[0;32m      4\u001b[0m           \u001b[0mepochs\u001b[0m\u001b[1;33m=\u001b[0m\u001b[1;36m10\u001b[0m\u001b[1;33m,\u001b[0m\u001b[1;33m\u001b[0m\u001b[1;33m\u001b[0m\u001b[0m\n\u001b[0;32m      5\u001b[0m           \u001b[0mverbose\u001b[0m\u001b[1;33m=\u001b[0m\u001b[1;36m1\u001b[0m\u001b[1;33m,\u001b[0m\u001b[1;33m\u001b[0m\u001b[1;33m\u001b[0m\u001b[0m\n",
      "\u001b[1;32mc:\\users\\hkropp\\appdata\\local\\programs\\python\\python38\\lib\\site-packages\\keras\\utils\\traceback_utils.py\u001b[0m in \u001b[0;36merror_handler\u001b[1;34m(*args, **kwargs)\u001b[0m\n\u001b[0;32m     65\u001b[0m     \u001b[1;32mexcept\u001b[0m \u001b[0mException\u001b[0m \u001b[1;32mas\u001b[0m \u001b[0me\u001b[0m\u001b[1;33m:\u001b[0m  \u001b[1;31m# pylint: disable=broad-except\u001b[0m\u001b[1;33m\u001b[0m\u001b[1;33m\u001b[0m\u001b[0m\n\u001b[0;32m     66\u001b[0m       \u001b[0mfiltered_tb\u001b[0m \u001b[1;33m=\u001b[0m \u001b[0m_process_traceback_frames\u001b[0m\u001b[1;33m(\u001b[0m\u001b[0me\u001b[0m\u001b[1;33m.\u001b[0m\u001b[0m__traceback__\u001b[0m\u001b[1;33m)\u001b[0m\u001b[1;33m\u001b[0m\u001b[1;33m\u001b[0m\u001b[0m\n\u001b[1;32m---> 67\u001b[1;33m       \u001b[1;32mraise\u001b[0m \u001b[0me\u001b[0m\u001b[1;33m.\u001b[0m\u001b[0mwith_traceback\u001b[0m\u001b[1;33m(\u001b[0m\u001b[0mfiltered_tb\u001b[0m\u001b[1;33m)\u001b[0m \u001b[1;32mfrom\u001b[0m \u001b[1;32mNone\u001b[0m\u001b[1;33m\u001b[0m\u001b[1;33m\u001b[0m\u001b[0m\n\u001b[0m\u001b[0;32m     68\u001b[0m     \u001b[1;32mfinally\u001b[0m\u001b[1;33m:\u001b[0m\u001b[1;33m\u001b[0m\u001b[1;33m\u001b[0m\u001b[0m\n\u001b[0;32m     69\u001b[0m       \u001b[1;32mdel\u001b[0m \u001b[0mfiltered_tb\u001b[0m\u001b[1;33m\u001b[0m\u001b[1;33m\u001b[0m\u001b[0m\n",
      "\u001b[1;32mc:\\users\\hkropp\\appdata\\local\\programs\\python\\python38\\lib\\site-packages\\tensorflow\\python\\framework\\func_graph.py\u001b[0m in \u001b[0;36mautograph_handler\u001b[1;34m(*args, **kwargs)\u001b[0m\n\u001b[0;32m   1127\u001b[0m           \u001b[1;32mexcept\u001b[0m \u001b[0mException\u001b[0m \u001b[1;32mas\u001b[0m \u001b[0me\u001b[0m\u001b[1;33m:\u001b[0m  \u001b[1;31m# pylint:disable=broad-except\u001b[0m\u001b[1;33m\u001b[0m\u001b[1;33m\u001b[0m\u001b[0m\n\u001b[0;32m   1128\u001b[0m             \u001b[1;32mif\u001b[0m \u001b[0mhasattr\u001b[0m\u001b[1;33m(\u001b[0m\u001b[0me\u001b[0m\u001b[1;33m,\u001b[0m \u001b[1;34m\"ag_error_metadata\"\u001b[0m\u001b[1;33m)\u001b[0m\u001b[1;33m:\u001b[0m\u001b[1;33m\u001b[0m\u001b[1;33m\u001b[0m\u001b[0m\n\u001b[1;32m-> 1129\u001b[1;33m               \u001b[1;32mraise\u001b[0m \u001b[0me\u001b[0m\u001b[1;33m.\u001b[0m\u001b[0mag_error_metadata\u001b[0m\u001b[1;33m.\u001b[0m\u001b[0mto_exception\u001b[0m\u001b[1;33m(\u001b[0m\u001b[0me\u001b[0m\u001b[1;33m)\u001b[0m\u001b[1;33m\u001b[0m\u001b[1;33m\u001b[0m\u001b[0m\n\u001b[0m\u001b[0;32m   1130\u001b[0m             \u001b[1;32melse\u001b[0m\u001b[1;33m:\u001b[0m\u001b[1;33m\u001b[0m\u001b[1;33m\u001b[0m\u001b[0m\n\u001b[0;32m   1131\u001b[0m               \u001b[1;32mraise\u001b[0m\u001b[1;33m\u001b[0m\u001b[1;33m\u001b[0m\u001b[0m\n",
      "\u001b[1;31mValueError\u001b[0m: in user code:\n\n    File \"c:\\users\\hkropp\\appdata\\local\\programs\\python\\python38\\lib\\site-packages\\keras\\engine\\training.py\", line 878, in train_function  *\n        return step_function(self, iterator)\n    File \"c:\\users\\hkropp\\appdata\\local\\programs\\python\\python38\\lib\\site-packages\\keras\\engine\\training.py\", line 867, in step_function  **\n        outputs = model.distribute_strategy.run(run_step, args=(data,))\n    File \"c:\\users\\hkropp\\appdata\\local\\programs\\python\\python38\\lib\\site-packages\\keras\\engine\\training.py\", line 860, in run_step  **\n        outputs = model.train_step(data)\n    File \"c:\\users\\hkropp\\appdata\\local\\programs\\python\\python38\\lib\\site-packages\\keras\\engine\\training.py\", line 809, in train_step\n        loss = self.compiled_loss(\n    File \"c:\\users\\hkropp\\appdata\\local\\programs\\python\\python38\\lib\\site-packages\\keras\\engine\\compile_utils.py\", line 201, in __call__\n        loss_value = loss_obj(y_t, y_p, sample_weight=sw)\n    File \"c:\\users\\hkropp\\appdata\\local\\programs\\python\\python38\\lib\\site-packages\\keras\\losses.py\", line 141, in __call__\n        losses = call_fn(y_true, y_pred)\n    File \"c:\\users\\hkropp\\appdata\\local\\programs\\python\\python38\\lib\\site-packages\\keras\\losses.py\", line 245, in call  **\n        return ag_fn(y_true, y_pred, **self._fn_kwargs)\n    File \"c:\\users\\hkropp\\appdata\\local\\programs\\python\\python38\\lib\\site-packages\\keras\\losses.py\", line 1664, in categorical_crossentropy\n        return backend.categorical_crossentropy(\n    File \"c:\\users\\hkropp\\appdata\\local\\programs\\python\\python38\\lib\\site-packages\\keras\\backend.py\", line 4994, in categorical_crossentropy\n        target.shape.assert_is_compatible_with(output.shape)\n\n    ValueError: Shapes (None, 256, 256, 3) and (None, 10) are incompatible\n"
     ]
    }
   ],
   "source": [
    "#train the model\n",
    "history1 = cnn1.fit(X_train, Y_train,\n",
    "          batch_size=256,\n",
    "          epochs=10,\n",
    "          verbose=1,\n",
    "          validation_data=(X_test, Y_test))"
   ]
  },
  {
   "cell_type": "code",
   "execution_count": null,
   "id": "7efe6606",
   "metadata": {},
   "outputs": [],
   "source": []
  }
 ],
 "metadata": {
  "kernelspec": {
   "display_name": "Python 3 (ipykernel)",
   "language": "python",
   "name": "python3"
  },
  "language_info": {
   "codemirror_mode": {
    "name": "ipython",
    "version": 3
   },
   "file_extension": ".py",
   "mimetype": "text/x-python",
   "name": "python",
   "nbconvert_exporter": "python",
   "pygments_lexer": "ipython3",
   "version": "3.8.0"
  }
 },
 "nbformat": 4,
 "nbformat_minor": 5
}
